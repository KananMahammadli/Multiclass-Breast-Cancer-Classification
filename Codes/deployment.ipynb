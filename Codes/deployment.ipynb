{
  "nbformat": 4,
  "nbformat_minor": 0,
  "metadata": {
    "colab": {
      "name": "deployment.ipynb",
      "provenance": []
    },
    "kernelspec": {
      "name": "python3",
      "display_name": "Python 3"
    },
    "language_info": {
      "name": "python"
    }
  },
  "cells": [
    {
      "cell_type": "code",
      "execution_count": null,
      "metadata": {
        "id": "3_gAhrpqd_fq"
      },
      "outputs": [],
      "source": [
        "!pip install anvil-uplink"
      ]
    },
    {
      "cell_type": "code",
      "source": [
        "import anvil.server\n",
        "import anvil.media\n",
        "import torch\n",
        "from PIL import Image\n",
        "from torchvision import transforms\n",
        "from torchvision.io import read_image\n",
        "model = torch.load('/content/drive/MyDrive/models/model_vit_b_16.pth', map_location=torch.device('cpu'))\n",
        "anvil.server.connect('JFDXNYXAXBJV23A4KXTKPDXI-URV3BQY2DAOWMB54')"
      ],
      "metadata": {
        "id": "heEeQvX6eLO1"
      },
      "execution_count": null,
      "outputs": []
    },
    {
      "cell_type": "code",
      "source": [
        "def predict(img):\n",
        "  mean = [0.485, 0.456, 0.406] \n",
        "  std = [0.229, 0.224, 0.225]\n",
        "  transform_norm = transforms.Compose([transforms.ToTensor(), \n",
        "  transforms.Resize((224,224)),transforms.Normalize(mean, std)])\n",
        "\n",
        "  img_normalized = transform_norm(img).float()\n",
        "  img_normalized = img_normalized.unsqueeze_(0)\n",
        "  dic = {0:'Benign', 1:'Ductal Carcinoma', 2:'Lobular Carcinoma', 3:'Mucinous Carcinoma', 4:'Papillary Carcinoma'}\n",
        "\n",
        "  with torch.no_grad():\n",
        "    model.eval()  \n",
        "    output =model(img_normalized)\n",
        "    \n",
        "    index = output.data.numpy().argmax()\n",
        "    class_name = dic[index]\n",
        "\n",
        "  return class_name"
      ],
      "metadata": {
        "id": "vaJ4TMErhWcQ"
      },
      "execution_count": null,
      "outputs": []
    },
    {
      "cell_type": "code",
      "source": [
        "@anvil.server.callable\n",
        "def classify_image(file):\n",
        "   with anvil.media.TempFile(file) as filename:\n",
        "      img = read_image(filename)\n",
        "      \n",
        "   return predict(img)"
      ],
      "metadata": {
        "id": "C56pTnz2euyN"
      },
      "execution_count": null,
      "outputs": []
    },
    {
      "cell_type": "code",
      "source": [
        ""
      ],
      "metadata": {
        "id": "53mcErssnZkv"
      },
      "execution_count": null,
      "outputs": []
    }
  ]
}